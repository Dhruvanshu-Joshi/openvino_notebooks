{
 "cells": [
  {
   "attachments": {
    "image.png": {
     "image/png": "[encoded data removed]"
    }
   },
   "cell_type": "markdown",
   "id": "7eb6e0cd",
   "metadata": {},
   "source": [
    "# DeOldify using OpenVINO\n",
    "\n",
    "DeOldify is an open-source deep learning project, that uses generative adversarial networks (GANs) to colorize and restore old black and white images and videos. The project is built using PyTorch and utilizes a deep neural network architecture to analyze and add color to grayscale images and videos.  More details about its realization can be found in original model [repository](https://github.com/jantic/DeOldify).\n",
    "\n",
    "This tutorial demonstrates how to convert and run the pytorch model for DeOldify with OpenVino.\n",
    "\n",
    "There are currently three models available: one to produce stable color results on images, one to produce artistic colors on an image and one to convert a video (More details on this is available on the original [repo link](https://github.com/jantic/DeOldify).\n",
    "\n",
    "![image.png](attachment:image.png)"
   ]
  },
  {
   "cell_type": "markdown",
   "id": "9edbf18b",
   "metadata": {},
   "source": [
    "## **Validate Pytorch model**"
   ]
  },
  {
   "cell_type": "markdown",
   "id": "05505543",
   "metadata": {},
   "source": [
    "## **Prerequisites**"
   ]
  },
  {
   "cell_type": "code",
   "execution_count": null,
   "id": "f6b38583",
   "metadata": {},
   "outputs": [],
   "source": [
    "import sys\n",
    "from pathlib import Path\n",
    "sys.path.append(\"../utils\")\n",
    "from notebook_utils import download_file as df  # noqa: E402"
   ]
  },
  {
   "cell_type": "markdown",
   "id": "4320a9cb",
   "metadata": {},
   "source": [
    "## Clone the repo"
   ]
  },
  {
   "cell_type": "code",
   "execution_count": null,
   "id": "2e813b0e",
   "metadata": {},
   "outputs": [],
   "source": [
    "# Clone DeOldify repo\n",
    "if not Path('DeOldify').exists():\n",
    "    !git clone https://github.com/jantic/DeOldify.git\n",
    "%cd DeOldify"
   ]
  },
  {
   "cell_type": "markdown",
   "id": "cf30f249",
   "metadata": {},
   "source": [
    "## Install requirements"
   ]
  },
  {
   "cell_type": "code",
   "execution_count": null,
   "id": "b9c16d5a",
   "metadata": {},
   "outputs": [],
   "source": [
    "!pip install -r requirements.txt\n",
    "!pip install onnxruntime"
   ]
  },
  {
   "cell_type": "markdown",
   "id": "40a9811b",
   "metadata": {},
   "source": [
    "## Imports"
   ]
  },
  {
   "cell_type": "code",
   "execution_count": null,
   "id": "bcc91416",
   "metadata": {},
   "outputs": [],
   "source": [
    "import os  # noqa: E402\n",
    "import re  # noqa: E402\n",
    "from typing import Union as Un  # noqa: E402\n",
    "from typing import Tuple  # noqa: E402\n",
    "import cv2  # noqa: E402\n",
    "import numpy as np  # noqa: E402\n",
    "import torch as tr  # noqa: E402\n",
    "import yt_dlp as youtube_dl  # noqa: E402\n",
    "from matplotlib import pyplot as plt  # noqa: E402\n",
    "from openvino.inference_engine import IECore  # noqa: E402\n",
    "from openvino.runtime import Core, serialize  # noqa: E402\n",
    "from openvino.tools import mo  # noqa: E402"
   ]
  },
  {
   "cell_type": "code",
   "execution_count": null,
   "id": "10f138d4",
   "metadata": {},
   "outputs": [],
   "source": [
    "import deoldify.generators as gen  # noqa: E402\n",
    "from deoldify.visualize import get_image_colorizer  # noqa: E402\n",
    "from deoldify.visualize import get_video_colorizer  # noqa: E402\n",
    "from deoldify.visualize import show_image_in_notebook  # noqa: E402\n",
    "from deoldify.visualize import show_video_in_notebook  # noqa: E402"
   ]
  },
  {
   "cell_type": "markdown",
   "id": "4b867485",
   "metadata": {},
   "source": [
    "## Helper Function"
   ]
  },
  {
   "cell_type": "code",
   "execution_count": null,
   "id": "622b1513",
   "metadata": {},
   "outputs": [],
   "source": [
    "def subfolder_check(color_source_path: str):\n",
    "    \"\"\"\n",
    "    Checks creates the specified directory if it doesn't exist.\n",
    "\n",
    "    Parameters:\n",
    "        color_source_path: Directory path to check and create.\n",
    "\n",
    "    Returns:\n",
    "        None\n",
    "    \"\"\"\n",
    "    if not Path(color_source_path).exists():\n",
    "        os.mkdir(color_source_path)"
   ]
  },
  {
   "cell_type": "markdown",
   "id": "f3fffc4b",
   "metadata": {},
   "source": [
    "## Download pre-trained model weights and run inference"
   ]
  },
  {
   "cell_type": "markdown",
   "id": "de3387ed",
   "metadata": {},
   "source": [
    "We take user input in the cell below to decide if we want to generate results for an image or a video and also to check whether the model is expected to generate artistic output or not."
   ]
  },
  {
   "cell_type": "code",
   "execution_count": null,
   "id": "c7a1d083",
   "metadata": {},
   "outputs": [],
   "source": [
    "def input_type():\n",
    "    \"\"\"\n",
    "    Determines if input format is image or video\n",
    "    In case of image input, decides between artistic or stable results\n",
    "\n",
    "    Returns:\n",
    "        inputs: A list of two boolean values\n",
    "    \"\"\"\n",
    "    image = \"True\"  # make this false to load video inference\n",
    "    artistic = \"True\"  # make this false to generate stable results\n",
    "    inputs = [image, artistic]\n",
    "    return inputs"
   ]
  },
  {
   "cell_type": "markdown",
   "id": "5000ddcb",
   "metadata": {},
   "source": [
    "Based on what we decide, either the pre-trained **ColorizeArtistic_gen.pth** is downloaded using the download_file function provided exclusively by OpenVino Toolkit or **ColorizeStable_gen.pth** is downloaded and for videos, we download the **ColorizeVideo_gen.pth**.\n",
    "\n",
    "ColorizeArtistic_gen.pth : The model uses a resnet34 backbone on a UNet with an emphasis on depth of layers on the decoder side. This model was trained with 5 critic pretrain/GAN cycle repeats via NoGAN, in addition to the initial generator/critic pretrain/GAN NoGAN training, at 192px. \n",
    "\n",
    "ColorizeStable_gen.pth : This model uses a resnet101 backbone on a UNet with an emphasis on width of layers on the decoder side. This model was trained with 3 critic pretrain/GAN cycle repeats via NoGAN, in addition to the initial generator/critic pretrain/GAN NoGAN training, at 192px.\n",
    "\n",
    "ColorizeVideo_gen.pth : The model is the same as \"stable\" in terms of architecture, but differs in training. It's trained at 192px, using only the initial generator/critic pretrain/GAN NoGAN training."
   ]
  },
  {
   "cell_type": "code",
   "execution_count": null,
   "id": "045b8e54",
   "metadata": {},
   "outputs": [],
   "source": [
    "image = input_type()[0]\n",
    "artistic = input_type()[1]\n",
    "\n",
    "if image == \"True\":\n",
    "    if artistic == \"True\":\n",
    "        if not Path('models/ColorizeArtistic_gen.pth').exists():\n",
    "            URL = \"https://data.deepai.org/deoldify/ColorizeArtistic_gen.pth\"\n",
    "            MODEL_DIR = Path(\"models/\")\n",
    "            df(URL, directory=MODEL_DIR, show_progress=True)\n",
    "    else:\n",
    "        if not Path('models/ColorizeStable_gen.pth').exists():\n",
    "            !wget https://www.dropbox.com/s/axsd2g85uyixaho/ColorizeStable_gen.pth?dl=0 -O ./models/ColorizeStable_gen.pth\n",
    "else:\n",
    "    if not Path('models/ColorizeVideo_gen.pth').exists():\n",
    "        !wget https://data.deepai.org/deoldify/ColorizeVideo_gen.pth -O ./models/ColorizeVideo_gen.pth"
   ]
  },
  {
   "cell_type": "markdown",
   "id": "731c0fe7",
   "metadata": {},
   "source": [
    "Here is a black and white image of a beautiful women and using DeOldify, we will colorize it. But first lets download the image and store it under the test_images directory which is present in our cloned repository for DeOldify. This photo is taken from this [website](https://photo-works.net/how-to-make-picture-black-and-white.php) which converts a color photo to black and white."
   ]
  },
  {
   "cell_type": "code",
   "execution_count": null,
   "id": "5cdd1e18",
   "metadata": {},
   "outputs": [],
   "source": [
    "image = input_type()[0]\n",
    "if image == 'True':\n",
    "    img_url = \"https://tinyurl.com/3nrt3h4p\"\n",
    "    fname = \"image.png\"\n",
    "    folder = \"test_images\"\n",
    "    df(img_url, fname, folder, show_progress=True, silent=True, timeout=30)\n",
    "else:\n",
    "    subfolder_check('video')\n",
    "    subfolder_check('video/source')\n",
    "    ydl_opts = {\n",
    "        'format': 'bestvideo[ext=mp4]+bestaudio[ext=m4a]/mp4',\n",
    "        'outtmpl': str(Path(\"video/source/vid.mp4\")),\n",
    "        'retries': 30,\n",
    "        'fragment-retries': 30\n",
    "    }\n",
    "    with youtube_dl.YoutubeDL(ydl_opts) as ydl:\n",
    "        ydl.download([\"https://tinyurl.com/2p884ea7\"])"
   ]
  },
  {
   "cell_type": "markdown",
   "id": "d6e677db",
   "metadata": {},
   "source": [
    "Down in the cells is the part where we load the model and get the colored image or video."
   ]
  },
  {
   "cell_type": "code",
   "execution_count": null,
   "id": "dc622f5e",
   "metadata": {
    "scrolled": true
   },
   "outputs": [],
   "source": [
    "image = input_type()[0]\n",
    "\n",
    "\n",
    "def colorise(image):\n",
    "    if image == \"True\":\n",
    "        colorizer = get_image_colorizer(artistic=artistic)\n",
    "    else:\n",
    "        colorizer = get_video_colorizer()\n",
    "    return colorizer"
   ]
  },
  {
   "cell_type": "code",
   "execution_count": null,
   "id": "cdc5c673",
   "metadata": {},
   "outputs": [],
   "source": [
    "image = input_type()[0]\n",
    "cz = colorise(image)\n",
    "\n",
    "if image == \"True\":\n",
    "    # NOTE:  Max is 45 with 11GB video cards. 35 is a good default\n",
    "    rf = 35  # render_factor\n",
    "    # U='https://tinyurl.com/3nrt3h4p'\n",
    "    RP = None  # result path\n",
    "    F = (20, 20)  # figsize\n",
    "    U = None  # source_url\n",
    "    drf = False  # display_render_factor\n",
    "    P = 'test_images/image.png'  # source_path\n",
    "    C = True  # compare\n",
    "    pp = True  # post_process\n",
    "    W = True  # watermarked\n",
    "\n",
    "    if U is not None:\n",
    "        RP = cz.plot_transformed_image_from_url(U, P, RP, F, rf, drf, C, pp, W)\n",
    "    else:\n",
    "        RP = cz.plot_transformed_image(P, RP, F, rf, drf, C, pp, W)\n",
    "\n",
    "    show_image_in_notebook(RP)\n",
    "else:\n",
    "    # NOTE:  Max is 44 with 11GB video cards.  21 is a good default\n",
    "    r_f = 21  # render_factor\n",
    "#     s_u='https://twitter.com/silentmoviegifs/status/1116751583386034176'\n",
    "    s_u = None  # source_url\n",
    "    f_n = 'vid'  # file_name\n",
    "    f_n_e = f_n + '.mp4'  # file_name_extended\n",
    "    r_p = None  # result_path\n",
    "\n",
    "    if s_u is not None:\n",
    "        r_p = cz.colorize_from_url(s_u, f_n_e, r_f)\n",
    "    else:\n",
    "        r_p = cz.colorize_from_file_name(f_n_e, r_f)\n",
    "\n",
    "    show_video_in_notebook(r_p)"
   ]
  },
  {
   "cell_type": "markdown",
   "id": "6d3ab4f4",
   "metadata": {},
   "source": [
    "## Convert Pytorch model into onnx format"
   ]
  },
  {
   "cell_type": "markdown",
   "id": "296fbe9b",
   "metadata": {},
   "source": [
    "Before we start converting the pytorch model into onnx format and later into OpenVino IR format, lets define some variables to improve code redability and minimize the number of if statements when switching models."
   ]
  },
  {
   "cell_type": "code",
   "execution_count": null,
   "id": "c239e156",
   "metadata": {},
   "outputs": [],
   "source": [
    "image = input_type()[0]\n",
    "artistic = input_type()[1]\n",
    "\n",
    "\n",
    "def attributes(image, artistic):\n",
    "    if image == \"True\":\n",
    "        if artistic == \"True\":\n",
    "            wt_name = \"ColorizeArtistic_gen\"\n",
    "            onnx_path = \"models/ColorizeArtistic_deoldify.onnx\"\n",
    "            onnx_name = \"ColorizeArtistic_deoldify.onnx\"\n",
    "            xml_name = \"models/ColorizeArtistic_deoldify.xml\"\n",
    "            bin_name = \"models/ColorizeArtistic_deoldify.bin\"\n",
    "        else:\n",
    "            wt_name = \"ColorizeStable_gen\"\n",
    "            onnx_path = \"models/ColorizeStable_deoldify.onnx\"\n",
    "            onnx_name = \"ColorizeStable_deoldify.onnx\"\n",
    "            xml_name = \"models/ColorizeStable_deoldify.xml\"\n",
    "            bin_name = \"models/ColorizeStable_deoldify.bin\"\n",
    "    else:\n",
    "        wt_name = \"ColorizeVideo_gen\"\n",
    "        onnx_path = \"models/ColorizeVideo_deoldify.onnx\"\n",
    "        onnx_name = \"ColorizeVideo_deoldify.onnx\"\n",
    "        xml_name = \"models/ColorizeVideo_deoldify.xml\"\n",
    "        bin_name = \"models/ColorizeVideo_deoldify.bin\"\n",
    "\n",
    "    return wt_name, onnx_path, onnx_name, xml_name, bin_name"
   ]
  },
  {
   "cell_type": "markdown",
   "id": "ee5401b6",
   "metadata": {},
   "source": [
    "Below we convert the pytorch model into onnx format.\n",
    "First we load the pytorch model. We need to remove the spectral normalizations after loading the model as this is an unsupported operator in ONNX and not doing so raises an error while exporting. We define a 192x192 image input size. "
   ]
  },
  {
   "cell_type": "code",
   "execution_count": null,
   "id": "e7a57320",
   "metadata": {},
   "outputs": [],
   "source": [
    "INPUT_SIZE = 192  # use 576 for better results or 96 if cell fails to run\n",
    "\n",
    "\n",
    "def refine_network(item: Un[tr.nn.Module, tr.nn.ModuleList, tr.nn.Sequential]):\n",
    "    \"\"\"\n",
    "    Recursively removes spectral normalization from all PyTorch modules.\n",
    "\n",
    "    It recursively traverses the input PyTorch module and its submodules.\n",
    "    Spectral normalization stabilizes the training of generative models.\n",
    "    After training, spectral normalization might be desirable to remove.\n",
    "    This function removes spectral normalization present in any module.\n",
    "\n",
    "    Parameters:\n",
    "        item : The PyTorch module to remove spectral normalization from.\n",
    "\n",
    "    Returns:\n",
    "        None\n",
    "    \"\"\"\n",
    "    if isinstance(item, tr.nn.Module):\n",
    "        try:\n",
    "            tr.nn.utils.remove_spectral_norm(item)\n",
    "        except Exception:\n",
    "            pass\n",
    "        for child in item.children():\n",
    "            refine_network(child)\n",
    "\n",
    "    if isinstance(item, tr.nn.ModuleList):\n",
    "        for module in item:\n",
    "            refine_network(module)\n",
    "\n",
    "    if isinstance(item, tr.nn.Sequential):\n",
    "        modules = item.children()\n",
    "        for module in modules:\n",
    "            refine_network(module)\n",
    "\n",
    "\n",
    "def export_to_onnx_and_test() -> None:\n",
    "    \"\"\"\n",
    "    Exports the DeOldify network as an ONNX model.\n",
    "\n",
    "    This function exports the model in ONNX format.\n",
    "    But 'mv' operation is not supported by torch.onnx.export.\n",
    "    This function also removes spectral normalization from the model.\n",
    "\n",
    "    Returns:\n",
    "        None\n",
    "    \"\"\"\n",
    "    image = input_type()[0]\n",
    "    artistic = input_type()[1]\n",
    "    W, onnx_path, onnx_n, xml, bin_name = attributes(image, artistic)\n",
    "    P = Path(\"./\")\n",
    "\n",
    "    print(\"> Load the DeOldify network\")\n",
    "    if image == \"True\":\n",
    "        if artistic == \"True\":\n",
    "            tr_m = gen.gen_inference_deep(root_folder=P, weights_name=W).model\n",
    "        else:\n",
    "            tr_m = gen.gen_inference_wide(root_folder=P, weights_name=W).model\n",
    "    else:\n",
    "        tr_m = gen.gen_inference_wide(root_folder=P, weights_name=W).model\n",
    "    tr_m.eval()\n",
    "\n",
    "    print(\"> Set example input to the model for exporting and for testing\")\n",
    "    example_input_t = tr.rand(1, 3, INPUT_SIZE, INPUT_SIZE)\n",
    "\n",
    "    print(\"> Export the model as ONNX format\")\n",
    "    refine_network(tr_m)  # 'mv' operation not supported by torch.onnx.export\n",
    "    tr.onnx.export(\n",
    "        tr_m,\n",
    "        example_input_t,\n",
    "        onnx_path,\n",
    "        export_params=True,\n",
    "        opset_version=9,\n",
    "        do_constant_folding=False,\n",
    "        input_names=[\"input\"],\n",
    "        output_names=[\"output\"])\n",
    "\n",
    "\n",
    "export_to_onnx_and_test()"
   ]
  },
  {
   "cell_type": "markdown",
   "id": "c2aa7163",
   "metadata": {},
   "source": [
    "## Convert onnx model into openvino Ir format"
   ]
  },
  {
   "cell_type": "markdown",
   "id": "0312002d",
   "metadata": {},
   "source": [
    "Although the OpenVINO runtime directly supports ONNX models, it may be advantageous to convert them to IR format in order to make use of the OpenVINO optimisation tools and capabilities. To convert a model using OpenVINO Model Optimizer, use the mo.convert model Python function. Instances of the OpenVINO Model class are returned by the function, ready for usage in the Python interface but also capable of being serialised to the OpenVINO IR format for later execution."
   ]
  },
  {
   "cell_type": "code",
   "execution_count": null,
   "id": "7ad2696e",
   "metadata": {},
   "outputs": [],
   "source": [
    "wt_name, onnx_path, onnx_name, xml_name, bin_name = attributes(image, artistic)\n",
    "model = mo.convert_model(onnx_path)\n",
    "# serialize model for saving IR\n",
    "serialize(model, xml_name)"
   ]
  },
  {
   "cell_type": "markdown",
   "id": "c2a9cda5",
   "metadata": {},
   "source": [
    "## Run inference from Openvino IR model"
   ]
  },
  {
   "cell_type": "markdown",
   "id": "1debc719",
   "metadata": {},
   "source": [
    "Next we set up the environment for deploying an OpenVINO optimized model on a CPU device and obtain information about the model input and output layers. Our process typically begins with preprocessing, then uses OpenVINO model inference and results post-processing to provide a colourized output."
   ]
  },
  {
   "cell_type": "markdown",
   "id": "56e40a66",
   "metadata": {},
   "source": [
    "## Image Processing - PreProcessing + PostProcessing"
   ]
  },
  {
   "cell_type": "markdown",
   "id": "231c23c4",
   "metadata": {},
   "source": [
    "Model input is in accordance with shape [1, 3, 192, 192] in N, C, H, W format, where\n",
    "\n",
    "N - number of images in batch (batch size)\n",
    "\n",
    "C - image channels\n",
    "\n",
    "H - image height\n",
    "\n",
    "W - image width"
   ]
  },
  {
   "cell_type": "markdown",
   "id": "5c531fbd",
   "metadata": {},
   "source": [
    "The pre_processing function takes an image in the form of a NumPy array as input, resizes it to a specific size using cv2.resize, converts it to a float tensor with pixel values in the range [0, 1], and normalizes pixel values using mean [0.485, 0.456, 0.406] and standard deviation [0.229, 0.224, 0.225]. The final output of the function is a float tensor after preprocessing.\n",
    "\n",
    "The post_processing function takes the output of a computer vision model in the form of a NumPy array as input, and post-processes it to obtain a coloured image of the same size as that of the input image. The function first normalizes the pixel values using cv2.normalize, scales the pixel values by 255, transposes the dimensions of the array, reverses the order of the channels, and converts the pixel values to unsigned 8-bit integers. The function then resizes the image to the original size of the input image and converts it to RGB format. Finally, the function returns the postprocessed image as a NumPy array."
   ]
  },
  {
   "cell_type": "code",
   "execution_count": null,
   "id": "50412184",
   "metadata": {},
   "outputs": [],
   "source": [
    "def pre_processing(img: np.ndarray, W: int, H: int):\n",
    "    \"\"\"\n",
    "    Preprocess image according to DeOldify input requirements.\n",
    "    Converts preprocessed image to tensor format.\n",
    "    Changes data layout from HWC to CHW.\n",
    "\n",
    "    Converts image in np.array format with unit8 data in [0, 255] range\n",
    "    to torch.Tensor object with float data in [0, 1] range.\n",
    "    Normalizes pixel values using mean [0.485, 0.456, 0.406]\n",
    "    and standard deviation [0.229, 0.224, 0.225].\n",
    "\n",
    "    Parameters:\n",
    "      img (np.ndarray): image for preprocessing\n",
    "      W : Image width that the OpenVino IR model expects\n",
    "      H : Image height that the OpenVino IR model expects\n",
    "\n",
    "    Returns:\n",
    "      final_input (torch.Tensor): float tensor after preprocessing\n",
    "\n",
    "    Note:\n",
    "    This function assumes that the input image is in BGR format.\n",
    "    \"\"\"\n",
    "    img = cv2.cvtColor(img, cv2.COLOR_BGR2GRAY)\n",
    "    img = cv2.cvtColor(img, cv2.COLOR_GRAY2BGR)\n",
    "    np_data = cv2.resize(img, (W, H)).astype(np.float32) / 255\n",
    "    np_data -= np.array([0.485, 0.456, 0.406])\n",
    "    np_data /= np.array([0.229, 0.224, 0.225])\n",
    "    inter_value = np_data.transpose((2, 0, 1))\n",
    "    final_input = np.expand_dims(inter_value, 0).astype(np.float32)\n",
    "    return final_input\n",
    "\n",
    "\n",
    "def post_processing(colour_data: np.ndarray, imshow_size: Tuple[int, int]):\n",
    "    \"\"\"\n",
    "    Postprocesses the output of a model to obtain a coloured image\n",
    "    of the same size as that of input image.\n",
    "    Major postprocessing steps involves normalization , scaling and resizing.\n",
    "\n",
    "    Parameters:\n",
    "        colour_data (np.ndarray): The output of the computer vision model.\n",
    "\n",
    "    Returns:\n",
    "        np.ndarray: The postprocessed image as a NumPy array.\n",
    "    \"\"\"\n",
    "    data = np.squeeze(colour_data)\n",
    "    post_data = cv2.normalize(\n",
    "        data,\n",
    "        None,\n",
    "        alpha=0,\n",
    "        beta=1,\n",
    "        norm_type=cv2.NORM_MINMAX\n",
    "    )\n",
    "    inter_colour_data = post_data.transpose(1, 2, 0)[:, :, ::-1] * 255\n",
    "    updated_colour_data = inter_colour_data.astype(np.uint8)\n",
    "    final_colour_data = cv2.resize(updated_colour_data, imshow_size)\n",
    "    final_img = cv2.cvtColor(final_colour_data, cv2.COLOR_BGR2RGB)\n",
    "    return final_img"
   ]
  },
  {
   "cell_type": "markdown",
   "id": "6a9d40aa",
   "metadata": {},
   "source": [
    "The cell given below are for loading inference on an image. Do not use this to colourise a video."
   ]
  },
  {
   "cell_type": "code",
   "execution_count": null,
   "id": "cacc0518",
   "metadata": {},
   "outputs": [],
   "source": [
    "core = Core()\n",
    "# read converted model\n",
    "image = input_type()[0]\n",
    "artistic = input_type()[1]\n",
    "wt_name, onnx_path, onnx_name, xml_name, bin_name = attributes(image, artistic)\n",
    "model = core.read_model(xml_name)\n",
    "# load model on CPU device\n",
    "compiled_model = core.compile_model(model, 'CPU')\n",
    "input_layer = compiled_model.input(0)\n",
    "N, C, H, W = input_layer.shape\n",
    "output_layer = compiled_model.output(0)\n",
    "print('Model Input and Output Info')\n",
    "print(f\"- input shape: {input_layer.shape}\")\n",
    "print(f\"- input precision: {input_layer.element_type}\")\n",
    "print(f\"- output shape: {output_layer.shape}\")\n",
    "print(f\"- output precision: {output_layer.element_type}\")\n",
    "image = input_type()[0]\n",
    "image_filename = 'test_images/image.png'\n",
    "img = cv2.imread(image_filename)\n",
    "(h_orig, w_orig) = img.shape[:2]\n",
    "imshow_size = (w_orig, h_orig)\n",
    "input_img = pre_processing(img, W, H)\n",
    "result = compiled_model([input_img])[output_layer]\n",
    "coloured_img = post_processing(result[0], imshow_size)\n",
    "plt.imshow(coloured_img)\n",
    "plt.show()"
   ]
  },
  {
   "cell_type": "markdown",
   "id": "95d514b2",
   "metadata": {},
   "source": [
    "## Video Processing - PreProcessing + PostProcessing"
   ]
  },
  {
   "cell_type": "markdown",
   "id": "39463914",
   "metadata": {},
   "source": [
    "In the module below, we colorise a video by breaking it down into frames and then feeding those frames as input to the DeOldify IR model. To do so, we first create a directory called bwframes which is done in the function call. Still we check if a directory called bwframes is correctly created or not. Next, we create a directory called colorframes inside the video directory to store the colorised frames. We then build the video back from the colorised frames and save it in the results directory inside the video folder."
   ]
  },
  {
   "cell_type": "code",
   "execution_count": null,
   "id": "762f6ad2",
   "metadata": {},
   "outputs": [],
   "source": [
    "video = input_type()[0]\n",
    "artistic = input_type()[1]\n",
    "wt_name, onnx_path, onnx_name, xml_name, bin_name = attributes(video, artistic)\n",
    "\n",
    "ie = IECore()\n",
    "\n",
    "model_xml = xml_name\n",
    "model_bin = bin_name\n",
    "\n",
    "net = ie.read_network(model=model_xml, weights=model_bin)\n",
    "\n",
    "input_blob = next(iter(net.input_info))\n",
    "output_blob = next(iter(net.outputs))\n",
    "\n",
    "exec_net = ie.load_network(network=net, device_name='CPU')"
   ]
  },
  {
   "cell_type": "code",
   "execution_count": null,
   "id": "fde6b53d",
   "metadata": {},
   "outputs": [],
   "source": [
    "def preprocess_video_frame(input_image: np.ndarray, W: int, H: int):\n",
    "    \"\"\"\n",
    "    Preprocessing a video frame in accordance with DeOldify input specification\n",
    "    Converts it to tensor format and switches the data layout from HWC to CHW.\n",
    "    Uses cv2.resize to resize an image in np.array format to a particular size.\n",
    "    Unit8 data between [0, 255] to tensor object with float data between [0, 1]\n",
    "    Normalize image using mean [0.485, 0.456, 0.406] and standard deviation\n",
    "    [0.229, 0.224, 0.225].\n",
    "\n",
    "    Parameters:\n",
    "        input_image (np.ndarray): An array representing a video frame.\n",
    "        W (int): Image width that the OpenVino IR model expects\n",
    "        H (int): Image height that the OpenVino IR model expects\n",
    "\n",
    "    Returns:\n",
    "        video_frame : A preprocessed video frame of shape (1, 3, W, H)\n",
    "                      ready to be fed into a deep learning model.\n",
    "\n",
    "    \"\"\"\n",
    "    input_image = cv2.cvtColor(input_image, cv2.COLOR_BGR2GRAY)\n",
    "    input_image = cv2.cvtColor(input_image, cv2.COLOR_GRAY2BGR)\n",
    "    input_image = cv2.resize(input_image, (W, H)).astype(np.float32) / 255\n",
    "    input_image -= np.array([0.485, 0.456, 0.406])\n",
    "    input_image /= np.array([0.229, 0.224, 0.225])\n",
    "    input_image = np.expand_dims(input_image.transpose((2, 0, 1)), 0)\n",
    "    input_image = input_image.astype(np.float32)\n",
    "    video_frame = input_image.reshape((1, 3, W, H))\n",
    "    return video_frame\n",
    "\n",
    "\n",
    "def postprocess_video_frame(output: np.ndarray, shape, output_blob):\n",
    "    \"\"\"\n",
    "    Postprocesses the output of a model for a video frame to colourise the it.\n",
    "\n",
    "    Paameters:\n",
    "        output: An array representing the output of a deep learning model.\n",
    "        shape: A tuple representing the shape of the original frame.\n",
    "        output_blob: Output layer name of the deep learning model as string.\n",
    "\n",
    "    Returns:\n",
    "        np.ndarray: A postprocessed video frame of the original shape.\n",
    "\n",
    "    \"\"\"\n",
    "    data = np.squeeze(output[output_blob][0])\n",
    "    norm = cv2.NORM_MINMAX\n",
    "    op_data = cv2.normalize(data, None, alpha=0, beta=1, norm_type=norm)\n",
    "    output_image = op_data.transpose(1, 2, 0)[:, :, ::-1] * 255\n",
    "    output_image = output_image.astype(np.uint8)\n",
    "    output_image = cv2.cvtColor(output_image, cv2.COLOR_RGB2BGR)\n",
    "    output_image = cv2.resize(output_image, shape)\n",
    "    return output_image"
   ]
  },
  {
   "cell_type": "code",
   "execution_count": null,
   "id": "f4709b08",
   "metadata": {
    "scrolled": true
   },
   "outputs": [],
   "source": [
    "def folder_check(folder_pth: str, folder_name: str):\n",
    "    \"\"\"\n",
    "    Checks if a specific directory exists in the 'video' folder.\n",
    "    If the directory doesn't exist, creates it.\n",
    "    Else, deletes all the '.jpg' files in the directory.\n",
    "\n",
    "    Returns:\n",
    "        None\n",
    "    \"\"\"\n",
    "    if not Path(folder_pth).exists():\n",
    "        %cd video\n",
    "        os.mkdir(folder_name)\n",
    "    else:\n",
    "        %cd video\n",
    "    for f in os.listdir(folder_name):\n",
    "        if re.search('.*?\\.jpg', f):  # noqa\n",
    "            os.remove(os.path.join(folder_name, f))\n",
    "    %cd ..\n",
    "\n",
    "\n",
    "image = input_type()[0]\n",
    "if image != \"True\":\n",
    "    colorizer = colorise(image)\n",
    "    file_name = \"vid\"\n",
    "    file_name_ext = file_name + \".mp4\"\n",
    "    workfolder = Path(\"./video\")\n",
    "    source_folder = workfolder / \"source\"\n",
    "    source_path = source_folder / file_name_ext\n",
    "    colorizer._extract_raw_frames(Path(source_path))\n",
    "\n",
    "    subfolder_check(\"video/bwframes/\")\n",
    "    bwframes_folder = \"video/bwframes/\" + file_name\n",
    "    color_source_path = \"video/colorframes/\" + file_name\n",
    "    folder_check(\"video/colorframes/\", \"colorframes\")\n",
    "    subfolder_check(color_source_path)\n",
    "\n",
    "    for img in progress_bar(os.listdir(bwframes_folder)):  # noqa: F821\n",
    "        img_path = bwframes_folder + \"/\" + img\n",
    "\n",
    "        if os.path.isfile(str(img_path)):\n",
    "            read_frame = cv2.imread(img_path)\n",
    "            shape = (read_frame.shape[1], read_frame.shape[0])\n",
    "            input_frame = preprocess_video_frame(read_frame)\n",
    "            output = exec_net.infer(inputs={input_blob: input_frame})\n",
    "            color_image = postprocess_video_frame(output, shape, output_blob)\n",
    "            cv2.imwrite(str(color_source_path + \"/\" + img), color_image)\n",
    "    result_path = colorizer._build_video(Path(source_path))\n",
    "    show_video_in_notebook(result_path)"
   ]
  },
  {
   "cell_type": "code",
   "execution_count": null,
   "id": "c7411245",
   "metadata": {},
   "outputs": [],
   "source": [
    "    "
   ]
  }
 ],
 "metadata": {
  "kernelspec": {
   "display_name": "Python 3 (ipykernel)",
   "language": "python",
   "name": "python3"
  },
  "language_info": {
   "codemirror_mode": {
    "name": "ipython",
    "version": 3
   },
   "file_extension": ".py",
   "mimetype": "text/x-python",
   "name": "python",
   "nbconvert_exporter": "python",
   "pygments_lexer": "ipython3",
   "version": "3.9.12"
  }
 },
 "nbformat": 4,
 "nbformat_minor": 5
}
